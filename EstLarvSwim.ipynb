{
 "cells": [
  {
   "cell_type": "code",
   "execution_count": null,
   "id": "df9f1891-0fc3-450d-84f0-cf853e70f370",
   "metadata": {},
   "outputs": [],
   "source": [
    "%matplotlib widget\n",
    "import numpy as np\n",
    "import matplotlib.pyplot as plt\n",
    "from IPython import display\n",
    "from EstLarvSwim import Estuary, Larvae, SwimSim\n",
    "plt.ioff()"
   ]
  },
  {
   "cell_type": "code",
   "execution_count": null,
   "id": "a50ae735-032f-4800-933a-6da14f9f1967",
   "metadata": {},
   "outputs": [],
   "source": [
    "e = Estuary(infile='Estuaries/Willapa_medium.out')"
   ]
  },
  {
   "cell_type": "code",
   "execution_count": null,
   "id": "76df0ce0-6813-4dcb-9e0d-867441d19496",
   "metadata": {},
   "outputs": [],
   "source": [
    "L1 = Larvae(N=64,release_date=60,stage_durations_days=[4,10],stage_velocities=[-500e-6,500e-6],\n",
    "              color='b',settle_in_substrate=1,substrate_extent=[-100,-40],\n",
    "              release_depths=[0.1,1])\n"
   ]
  },
  {
   "cell_type": "code",
   "execution_count": null,
   "id": "c2ee6076-670a-4ad5-94d0-303d46ff4f25",
   "metadata": {},
   "outputs": [],
   "source": [
    "L2 = Larvae(N=64,release_date=77,stage_durations_days=[3,8],stage_velocities=[-250e-6,250e-6],\n",
    "              color='r',settle_in_substrate=1,substrate_extent=[-80,-40],\n",
    "              release_depths=[0.99,1])\n"
   ]
  },
  {
   "cell_type": "code",
   "execution_count": null,
   "id": "57c5ff0a-c47d-468f-bf5a-e451d83fdbb0",
   "metadata": {},
   "outputs": [],
   "source": [
    "S = SwimSim(estuary=e,larvae=[L1,L2],plot_interval=2*3600,days=[59.75,88],plot_mode='ipynb')\n",
    "S.run()"
   ]
  },
  {
   "cell_type": "code",
   "execution_count": null,
   "id": "3ecf8df4-1cca-49d5-b776-cd6524538549",
   "metadata": {},
   "outputs": [],
   "source": []
  }
 ],
 "metadata": {
  "kernelspec": {
   "display_name": "Python 3 (ipykernel)",
   "language": "python",
   "name": "python3"
  },
  "language_info": {
   "codemirror_mode": {
    "name": "ipython",
    "version": 3
   },
   "file_extension": ".py",
   "mimetype": "text/x-python",
   "name": "python",
   "nbconvert_exporter": "python",
   "pygments_lexer": "ipython3",
   "version": "3.12.12"
  }
 },
 "nbformat": 4,
 "nbformat_minor": 5
}
